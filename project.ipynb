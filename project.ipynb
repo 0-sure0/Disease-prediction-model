{
  "nbformat": 4,
  "nbformat_minor": 0,
  "metadata": {
    "colab": {
      "name": "project.ipynb",
      "provenance": [],
      "collapsed_sections": [],
      "authorship_tag": "ABX9TyP41GmZ0iki+A+g2cjBeji/",
      "include_colab_link": true
    },
    "kernelspec": {
      "name": "python3",
      "display_name": "Python 3"
    }
  },
  "cells": [
    {
      "cell_type": "markdown",
      "metadata": {
        "id": "view-in-github",
        "colab_type": "text"
      },
      "source": [
        "<a href=\"https://colab.research.google.com/github/su-00/Graduation-portfolio/blob/main/project.ipynb\" target=\"_parent\"><img src=\"https://colab.research.google.com/assets/colab-badge.svg\" alt=\"Open In Colab\"/></a>"
      ]
    },
    {
      "cell_type": "code",
      "metadata": {
        "id": "buIVzjlH3sDj"
      },
      "source": [
        "import pandas as pd\n",
        "import numpy as np\n",
        "import matplotlib.pyplot as plt\n",
        "import seaborn as sns\n",
        "import missingno as msno\n",
        "%matplotlib inline\n",
        "from collections import Counter\n",
        "\n",
        "from sklearn.ensemble import RandomForestClassifier, AdaBoostClassifier, GradientBoostingClassifier, ExtraTreesClassifier, VotingClassifier\n",
        "from sklearn.discriminant_analysis import LinearDiscriminantAnalysis\n",
        "from sklearn.linear_model import LogisticRegression\n",
        "from sklearn.neighbors import KNeighborsClassifier\n",
        "from sklearn.tree import DecisionTreeClassifier\n",
        "from sklearn.neural_network import MLPClassifier\n",
        "from sklearn.svm import SVC\n",
        "from sklearn.model_selection import GridSearchCV, cross_val_score, StratifiedKFold, learning_curve\n",
        "from sklearn.naive_bayes import GaussianNB\n",
        "from sklearn.metrics import roc_curve, roc_auc_score\n",
        "from sklearn.model_selection import train_test_split\n",
        "from sklearn.preprocessing import label_binarize\n",
        "from scipy import interp\n",
        "\n",
        "data = pd.read_csv('./noin.csv')"
      ],
      "execution_count": null,
      "outputs": []
    },
    {
      "cell_type": "code",
      "metadata": {
        "id": "lpa8ofpY62UO"
      },
      "source": [
        "features = data.columns"
      ],
      "execution_count": null,
      "outputs": []
    },
    {
      "cell_type": "code",
      "metadata": {
        "id": "dEM-U6oG6vCh"
      },
      "source": [
        "def detect_outliers(df,n,features):\n",
        "    \"\"\"\n",
        "    Takes a dataframe df of features and returns a list of the indices\n",
        "    corresponding to the observations containing more than n outliers according\n",
        "    to the Tukey method.\n",
        "    \"\"\"\n",
        "    outlier_indices = []\n",
        "    \n",
        "    # iterate over features(columns)\n",
        "    for col in features:\n",
        "        # 1st quartile (25%)\n",
        "        Q1 = np.percentile(df[col], 25)\n",
        "        # 3rd quartile (75%)\n",
        "        Q3 = np.percentile(df[col],75)\n",
        "        # Interquartile range (IQR)\n",
        "        IQR = Q3 - Q1\n",
        "        \n",
        "        # outlier step\n",
        "        outlier_step = 1.5 * IQR\n",
        "        \n",
        "        # Determine a list of indices of outliers for feature col\n",
        "        outlier_list_col = df[(df[col] < Q1 - outlier_step) | (df[col] > Q3 + outlier_step )].index\n",
        "        \n",
        "        # append the found outlier indices for col to the list of outlier indices \n",
        "        outlier_indices.extend(outlier_list_col)\n",
        "        \n",
        "    # select observations containing more than 2 outliers\n",
        "    outlier_indices = Counter(outlier_indices)        \n",
        "    multiple_outliers = list( k for k, v in outlier_indices.items() if v > n )\n",
        "    \n",
        "    return multiple_outliers   \n",
        "\n",
        "Outliers_to_drop = detect_outliers(data,2,features)"
      ],
      "execution_count": null,
      "outputs": []
    },
    {
      "cell_type": "code",
      "metadata": {
        "id": "jTi7RpXN4Zgg"
      },
      "source": [
        "def missing_values_table(df):\n",
        "    #Total missing values\n",
        "    mis_val = df.isnull().sum()\n",
        "\n",
        "    #Percentage of missing values\n",
        "    mis_val_percent = 100 * mis_val / len(df)\n",
        "\n",
        "    #Make a tale with the results\n",
        "    mis_val_table = pd.concat([mis_val, mis_val_percent], axis=1)\n",
        "\n",
        "    #Rename the columns\n",
        "    mis_val_table_ren_columns = mis_val_table.rename(columns = {0: 'Missing Values', 1: '% of Total Values'})\n",
        "\n",
        "    #Sort the table by percentage of missing descending\n",
        "    mis_val_table_ren_columns = mis_val_table_ren_columns[mis_val_table_ren_columns.iloc[:, 1] != 0].sort_values('% of Total Values', ascending = False).round(1)\n",
        "\n",
        "    #Print some summary information\n",
        "    print('Your selected dataframe has ' + str(df.shape[1]) + \" columns. \\n\" \"There are \" + str(mis_val_table_ren_columns.shape[0]) + \" columns that have missing values.\")\n",
        "\n",
        "    #Return the dataframe with missing information\n",
        "    return mis_val_table_ren_columns"
      ],
      "execution_count": null,
      "outputs": []
    },
    {
      "cell_type": "code",
      "metadata": {
        "id": "u7WudvOMIeSh"
      },
      "source": [
        "#No duplicated values\n",
        "print(\"{} duplicated values in data\".format(data.duplicated().sum()))"
      ],
      "execution_count": null,
      "outputs": []
    },
    {
      "cell_type": "code",
      "metadata": {
        "id": "cHBSiIk_NHes"
      },
      "source": [
        "#drop DFAB_REG_YM (too many missing values), PERSON_ID\n",
        "data = data.drop(['DFAB_REG_YM'], axis=1)\n",
        "data = data.drop(['PERSON_ID'], axis =1)"
      ],
      "execution_count": null,
      "outputs": []
    },
    {
      "cell_type": "code",
      "metadata": {
        "id": "fP28j4wsJZwI"
      },
      "source": [
        "#Age distribution\n",
        "g = sns.kdeplot(data['AGE'][(data['Stroke'] == 0) & (data['AGE'].notnull())], color = 'Red', shade = True)\n",
        "g = sns.kdeplot(data['AGE'][(data['Stroke'] == 1) & (data['AGE'].notnull())], color = 'Blue', shade = True)\n",
        "g.set_xlabel('Age')\n",
        "g = g.legend(['have no stroke', 'have stroke'])"
      ],
      "execution_count": null,
      "outputs": []
    },
    {
      "cell_type": "code",
      "metadata": {
        "id": "rFheNhn8S_F_"
      },
      "source": [
        "#환자기본정보와 Stroke\n",
        "g = sns.heatmap(data[['Stroke', 'SEX', 'AGE', 'SIDO', 'IPSN_TYPE_CD', 'CTRB_PT_TYPE_CD', 'DFAB_GRD_CD', 'DFAB_PTN_CD']].corr(), annot=True, fmt=\".2f\", cmap=\"coolwarm\")\n"
      ],
      "execution_count": null,
      "outputs": []
    },
    {
      "cell_type": "code",
      "metadata": {
        "id": "5-rR6geBSLqr"
      },
      "source": [
        "#explore sex vs stroke\n",
        "#male > female\n",
        "fig, ax = plt.subplots(1, 2, figsize=(18, 8))\n",
        "data[['Stroke', 'SEX']].groupby(['SEX'], as_index=True).mean().plot.bar(ax=ax[0])\n",
        "ax[0].set_title('Stroke vs Sex')\n",
        "sns.countplot('SEX', hue='Stroke', data=data, ax=ax[1])\n",
        "ax[1].set_title('Sex: Stroke vs No stroke')\n",
        "plt.show()"
      ],
      "execution_count": null,
      "outputs": []
    },
    {
      "cell_type": "code",
      "metadata": {
        "id": "ucH_XHf6SNWU"
      },
      "source": [
        "#SIDO vs Storke\n",
        "g = sns.factorplot(x='SIDO', y='Stroke', data=data, kind='bar', size=6, palette = 'muted')\n",
        "g.despine(left=True)\n",
        "g = g.set_ylabels('Stroke probability')"
      ],
      "execution_count": null,
      "outputs": []
    },
    {
      "cell_type": "code",
      "metadata": {
        "id": "x7fsGj_fSNe6"
      },
      "source": [
        "#IPSN_TYPE_CD vs Stroke\n",
        "g = sns.factorplot(x='IPSN_TYPE_CD', y='Stroke', data=data, kind='bar', size=6, palette = 'muted')\n",
        "g.despine(left=True)\n",
        "g = g.set_ylabels('Stroke probability')"
      ],
      "execution_count": null,
      "outputs": []
    },
    {
      "cell_type": "code",
      "metadata": {
        "id": "Bw-KRWliSNnd"
      },
      "source": [
        "#CTRB_PT_TYPE_CD\n",
        "g = sns.factorplot(x='CTRB_PT_TYPE_CD', y='Stroke', data=data, kind='bar', size=6, palette = 'muted')\n",
        "g.despine(left=True)\n",
        "g = g.set_ylabels('Stroke probability')"
      ],
      "execution_count": null,
      "outputs": []
    },
    {
      "cell_type": "code",
      "metadata": {
        "id": "xbaNy3KBSNqD"
      },
      "source": [
        "#DFAB_GRD_CD -> 1 : (high stroke probability)\n",
        "g = sns.factorplot(x='DFAB_GRD_CD', y='Stroke', data=data, kind='bar', size=6, palette = 'muted')\n",
        "g.despine(left=True)\n",
        "g = g.set_ylabels('Stroke probability')"
      ],
      "execution_count": null,
      "outputs": []
    },
    {
      "cell_type": "code",
      "metadata": {
        "id": "CMXlhnqrSNsX"
      },
      "source": [
        "#DFAB_PTN_CD (2: high)\n",
        "g = sns.factorplot(x='DFAB_PTN_CD', y='Stroke', data=data, kind='bar', size=6, palette = 'muted')\n",
        "g.despine(left=True)\n",
        "g = g.set_ylabels('Stroke probability')"
      ],
      "execution_count": null,
      "outputs": []
    },
    {
      "cell_type": "code",
      "metadata": {
        "id": "0dOz0qmQSNu0"
      },
      "source": [
        "#미래 및 과거 병력 정보와 Stroke\n",
        "g = sns.heatmap(data[['Stroke', 'AF', 'CAD', 'Cancer', 'DM', 'HF', 'HTN']].corr(), annot=True, fmt=\".2f\", cmap=\"coolwarm\")"
      ],
      "execution_count": null,
      "outputs": []
    },
    {
      "cell_type": "code",
      "metadata": {
        "id": "TMMLMJ-SSNxE"
      },
      "source": [
        "#AF(심방세동) vs Stroke  (1: high)\n",
        "g = sns.factorplot(x='AF', y='Stroke', data=data, kind='bar', size=6, palette = 'muted')\n",
        "g.despine(left=True)\n",
        "g = g.set_ylabels('Stroke probability')"
      ],
      "execution_count": null,
      "outputs": []
    },
    {
      "cell_type": "code",
      "metadata": {
        "id": "dB_HOVzzSNzR"
      },
      "source": [
        "#CAD(심근경색) vs Storke\n",
        "g = sns.factorplot(x='CAD', y='Stroke', data=data, kind='bar', size=6, palette = 'muted')\n",
        "g.despine(left=True)\n",
        "g = g.set_ylabels('Stroke probability')"
      ],
      "execution_count": null,
      "outputs": []
    },
    {
      "cell_type": "code",
      "metadata": {
        "id": "FP2wyN9GSN1l"
      },
      "source": [
        "#Cancer vs Storke\n",
        "g = sns.factorplot(x='Cancer', y='Stroke', data=data, kind='bar', size=6, palette = 'muted')\n",
        "g.despine(left=True)\n",
        "g = g.set_ylabels('Stroke probability')"
      ],
      "execution_count": null,
      "outputs": []
    },
    {
      "cell_type": "code",
      "metadata": {
        "id": "w4EhGM6iSN3n"
      },
      "source": [
        "#DM vs Stroke\n",
        "g = sns.factorplot(x='DM', y='Stroke', data=data, kind='bar', size=6, palette = 'muted')\n",
        "g.despine(left=True)\n",
        "g = g.set_ylabels('Stroke probability')"
      ],
      "execution_count": null,
      "outputs": []
    },
    {
      "cell_type": "code",
      "metadata": {
        "id": "J4hBjDtvnAIJ"
      },
      "source": [
        "#HF vs Stroke\n",
        "g = sns.factorplot(x='HF', y='Stroke', data=data, kind='bar', size=6, palette = 'muted')\n",
        "g.despine(left=True)\n",
        "g = g.set_ylabels('Stroke probability')"
      ],
      "execution_count": null,
      "outputs": []
    },
    {
      "cell_type": "code",
      "metadata": {
        "id": "h9xVKIlwnAbi"
      },
      "source": [
        "#HTN vs stroke\n",
        "g = sns.factorplot(x='HTN', y='Stroke', data=data, kind='bar', size=6, palette = 'muted')\n",
        "g.despine(left=True)\n",
        "g = g.set_ylabels('Stroke probability')"
      ],
      "execution_count": null,
      "outputs": []
    },
    {
      "cell_type": "code",
      "metadata": {
        "id": "GPMBQ-_EnAdw"
      },
      "source": [
        "#과거 약제 정보와 Stroke\n",
        "g = sns.heatmap(data[['Stroke', 'aad', 'anticoagulant', 'antiplatelet_agent', 'cardiotonics', 'statin']].corr(), annot=True, fmt=\".2f\", cmap=\"coolwarm\")"
      ],
      "execution_count": null,
      "outputs": []
    },
    {
      "cell_type": "code",
      "metadata": {
        "id": "wvCZh02OnAgF"
      },
      "source": [
        "#Stroke vs statin\n",
        "g = sns.factorplot(x='statin', y='Stroke', data=data, kind='bar', size=6, palette = 'muted')\n",
        "g.despine(left=True)\n",
        "g = g.set_ylabels('Stroke probability')"
      ],
      "execution_count": null,
      "outputs": []
    },
    {
      "cell_type": "code",
      "metadata": {
        "id": "TmzbvvWSnAkH"
      },
      "source": [
        "#cardiotonics vs Stroke\n",
        "g = sns.factorplot(x='cardiotonics', y='Stroke', data=data, kind='bar', size=6, palette = 'muted')\n",
        "g.despine(left=True)\n",
        "g = g.set_ylabels('Stroke probability')"
      ],
      "execution_count": null,
      "outputs": []
    },
    {
      "cell_type": "code",
      "metadata": {
        "id": "GdNIdFItnAmX"
      },
      "source": [
        "#antiplatelet_agent vs Stroke\n",
        "g = sns.factorplot(x='antiplatelet_agent', y='Stroke', data=data, kind='bar', size=6, palette = 'muted')\n",
        "g.despine(left=True)\n",
        "g = g.set_ylabels('Stroke probability')"
      ],
      "execution_count": null,
      "outputs": []
    },
    {
      "cell_type": "code",
      "metadata": {
        "id": "qYRHbtZNnAov"
      },
      "source": [
        "#anticoagulant vs Stroke\n",
        "g = sns.factorplot(x='anticoagulant', y='Stroke', data=data, kind='bar', size=6, palette = 'muted')\n",
        "g.despine(left=True)\n",
        "g = g.set_ylabels('Stroke probability')"
      ],
      "execution_count": null,
      "outputs": []
    },
    {
      "cell_type": "code",
      "metadata": {
        "id": "O-DBXPhpnAqy"
      },
      "source": [
        "#aad vs Stroke\n",
        "g = sns.factorplot(x='aad', y='Stroke', data=data, kind='bar', size=6, palette = 'muted')\n",
        "g.despine(left=True)\n",
        "g = g.set_ylabels('Stroke probability')"
      ],
      "execution_count": null,
      "outputs": []
    },
    {
      "cell_type": "code",
      "metadata": {
        "id": "WWR1ssoUnAs9"
      },
      "source": [
        "#statin(콜레스테롤 합성저해제) vs antiplatelet_agent(항혈소판제)\n",
        "g = sns.factorplot(x='statin', y='antiplatelet_agent', data=data, kind='bar', size=6, palette = 'muted')\n",
        "g.despine(left=True)\n",
        "g = g.set_ylabels('antiplatelet_agent')"
      ],
      "execution_count": null,
      "outputs": []
    },
    {
      "cell_type": "code",
      "metadata": {
        "id": "kUoaPacZnAvL"
      },
      "source": [
        "#건강 검진 정보(검진연도 ~ 혈색소(22 ~ 34))와 Stroke\n",
        "fig, ax = plt.subplots(figsize = (18, 18))\n",
        "g = sns.heatmap(data[['Stroke', 'HCHK_YEAR', 'HME_DT', 'HEIGHT', 'WEIGHT', 'WAIST', 'BP_HIGH', 'BP_LWST', 'BLDS', 'TOT_CHOLE', 'TRIGLYCERIDE', 'HDL_CHOLE', 'LDL_CHOLE', 'HMG']].corr(), annot=True, fmt=\".2f\", cmap=\"coolwarm\")"
      ],
      "execution_count": null,
      "outputs": []
    },
    {
      "cell_type": "code",
      "metadata": {
        "id": "jPmLP-L7nAxP"
      },
      "source": [
        "#HCHK_YEAR vs Stroke\n",
        "g = sns.factorplot(x='HCHK_YEAR', y='Stroke', data=data, kind='bar', size=6, palette = 'muted')\n",
        "g.despine(left=True)\n",
        "g = g.set_ylabels('Stroke probability')"
      ],
      "execution_count": null,
      "outputs": []
    },
    {
      "cell_type": "code",
      "metadata": {
        "id": "rE_7cY_4nA1j"
      },
      "source": [
        "#HME_DT vs Stroke\n",
        "g = sns.kdeplot(data['HME_DT'][(data['Stroke'] == 0)], color='Red', shade=True)\n",
        "g = sns.kdeplot(data['HME_DT'][(data['Stroke'] == 1)], color='Blue', shade=True, ax = g)\n",
        "g.set_xlabel(\"HME_DT\")\n",
        "g = g.legend(['No Stroke', 'Stroke'])"
      ],
      "execution_count": null,
      "outputs": []
    },
    {
      "cell_type": "code",
      "metadata": {
        "id": "qczYJY4_zNSI"
      },
      "source": [
        "#HEIGHT vs Stroke\n",
        "g = sns.kdeplot(data['HEIGHT'][(data['Stroke'] == 0)], color='Red', shade=True)\n",
        "g = sns.kdeplot(data['HEIGHT'][(data['Stroke'] == 1)], color='Blue', shade=True, ax = g)\n",
        "g.set_xlabel(\"HEIGHT\")\n",
        "g = g.legend(['No Stroke', 'Stroke'])"
      ],
      "execution_count": null,
      "outputs": []
    },
    {
      "cell_type": "code",
      "metadata": {
        "id": "c56BKKDTzNap"
      },
      "source": [
        "#WEIGHT vs Stroke -> 영향 x \n",
        "g = sns.kdeplot(data['WEIGHT'][(data['Stroke'] == 0)], color='Red', shade=True)\n",
        "g = sns.kdeplot(data['WEIGHT'][(data['Stroke'] == 1)], color='Blue', shade=True, ax = g)\n",
        "g.set_xlabel(\"WEIGHT\")\n",
        "g = g.legend(['No Stroke', 'Stroke'])"
      ],
      "execution_count": null,
      "outputs": []
    },
    {
      "cell_type": "code",
      "metadata": {
        "id": "9NgWQGEqzNeh"
      },
      "source": [
        "#BP_HIGH, BP_LWST, BLDS, TOT_CHOLE, TRIGLYCERIDE\n",
        "f , ax = plt.subplots(3, 2, figsize=(20,15))\n",
        "sns.kdeplot(data['WAIST'][(data['Stroke'] == 0)], color='Red', shade=True, ax= ax[0,0])\n",
        "sns.kdeplot(data['WAIST'][(data['Stroke'] == 1)], color='Blue', shade=True, ax = ax[0, 0])\n",
        "ax[0, 0].set_xlabel(\"WAIST\")\n",
        "ax[0, 0].legend(['No Stroke', 'Stroke'])\n",
        "\n",
        "sns.kdeplot(data['BP_HIGH'][(data['Stroke'] == 0)], color='Red', shade=True, ax = ax[0, 1])\n",
        "sns.kdeplot(data['BP_HIGH'][(data['Stroke'] == 1)], color='Blue', shade=True, ax = ax[0, 1])\n",
        "ax[0, 1].set_xlabel(\"BP_HIGH\")\n",
        "ax[0, 1].legend(['No Stroke', 'Stroke'])\n",
        "\n",
        "sns.kdeplot(data['BP_LWST'][(data['Stroke'] == 0)], color='Red', shade=True, ax = ax[1, 0])\n",
        "sns.kdeplot(data['BP_LWST'][(data['Stroke'] == 1)], color='Blue', shade=True, ax = ax[1, 0])\n",
        "ax[1, 0].set_xlabel(\"BP_LWST\")\n",
        "ax[1, 0].legend(['No Stroke', 'Stroke'])\n",
        "\n",
        "sns.kdeplot(data['BLDS'][(data['Stroke'] == 0)], color='Red', shade=True, ax = ax[1, 1])\n",
        "sns.kdeplot(data['BLDS'][(data['Stroke'] == 1)], color='Blue', shade=True, ax = ax[1, 1])\n",
        "ax[1, 1].set_xlabel(\"BLDS\")\n",
        "ax[1, 1].legend(['No Stroke', 'Stroke'])\n",
        "\n",
        "sns.kdeplot(data['TOT_CHOLE'][(data['Stroke'] == 0)], color='Red', shade=True, ax = ax[2, 0])\n",
        "sns.kdeplot(data['TOT_CHOLE'][(data['Stroke'] == 1)], color='Blue', shade=True, ax = ax[2, 0])\n",
        "ax[2, 0].set_xlabel(\"TOT_CHOLE\")\n",
        "ax[2, 0].legend(['No Stroke', 'Stroke'])\n",
        "\n",
        "sns.kdeplot(data['TRIGLYCERIDE'][(data['Stroke'] == 0)], color='Red', shade=True, ax = ax[2, 1])\n",
        "sns.kdeplot(data['TRIGLYCERIDE'][(data['Stroke'] == 1)], color='Blue', shade=True, ax = ax[2, 1])\n",
        "ax[2, 1].set_xlabel(\"TRIGLYCERIDE\")\n",
        "ax[2, 1].legend(['No Stroke', 'Stroke'])"
      ],
      "execution_count": null,
      "outputs": []
    },
    {
      "cell_type": "code",
      "metadata": {
        "id": "Tjs26xITzNhJ"
      },
      "source": [
        "#HDL_CHOLE, LDL_CHOLE, HMG -> Stroke에 큰 영향 없어 보임\n",
        "f , ax = plt.subplots(1, 3, figsize=(20,15))\n",
        "sns.kdeplot(data['HDL_CHOLE'][(data['Stroke'] == 0)], color='Red', shade=True, ax= ax[0])\n",
        "sns.kdeplot(data['HDL_CHOLE'][(data['Stroke'] == 1)], color='Blue', shade=True, ax = ax[0])\n",
        "ax[0].set_xlabel(\"HDL_CHOLE\")\n",
        "ax[0].legend(['No Stroke', 'Stroke'])\n",
        "\n",
        "sns.kdeplot(data['LDL_CHOLE'][(data['Stroke'] == 0)], color='Red', shade=True, ax = ax[1])\n",
        "sns.kdeplot(data['LDL_CHOLE'][(data['Stroke'] == 1)], color='Blue', shade=True, ax = ax[1])\n",
        "ax[1].set_xlabel(\"LDL_CHOLE\")\n",
        "ax[1].legend(['No Stroke', 'Stroke'])\n",
        "\n",
        "sns.kdeplot(data['HMG'][(data['Stroke'] == 0)], color='Red', shade=True)\n",
        "sns.kdeplot(data['HMG'][(data['Stroke'] == 1)], color='Blue', shade=True, ax = ax[2])\n",
        "ax[2].set_xlabel(\"HMG\")\n",
        "ax[2].legend(['No Stroke', 'Stroke'])"
      ],
      "execution_count": null,
      "outputs": []
    },
    {
      "cell_type": "code",
      "metadata": {
        "id": "8MNr7RxvzNja"
      },
      "source": [
        "#OLIG_PROTE_CD ~ GAMMA_GTP\n",
        "fig, ax = plt.subplots(figsize = (6, 6))\n",
        "g = sns.heatmap(data[['Stroke', 'OLIG_PROTE_CD', 'CREATININE', 'SGOT_AST', 'SGPT_ALT', 'GAMMA_GTP']].corr(), annot=True, fmt=\".2f\", cmap=\"coolwarm\")"
      ],
      "execution_count": null,
      "outputs": []
    },
    {
      "cell_type": "code",
      "metadata": {
        "id": "I3MDXFgPzNlm"
      },
      "source": [
        "#OLIG_PROTE_CD vs Stroke\n",
        "g = sns.factorplot(x='OLIG_PROTE_CD', y='Stroke', data=data, kind = 'bar', size=6, palette = 'muted')\n",
        "g.despine(left=True)\n",
        "g = g.set_ylabels('Stroke probability')"
      ],
      "execution_count": null,
      "outputs": []
    },
    {
      "cell_type": "code",
      "metadata": {
        "id": "geSj8T1DzNn_"
      },
      "source": [
        "#CREATIINNE, SGOT_AST, SGPT_ALT, GAMMA_GTP\n",
        "f , ax = plt.subplots(2, 2, figsize=(18,8))\n",
        "sns.kdeplot(data['CREATININE'][(data['Stroke'] == 0)], color='Red', shade=True, ax= ax[0,0])\n",
        "sns.kdeplot(data['CREATININE'][(data['Stroke'] == 1)], color='Blue', shade=True, ax = ax[0, 0])\n",
        "ax[0, 0].set_xlabel(\"CREATININE\")\n",
        "ax[0, 0].legend(['No Stroke', 'Stroke'])\n",
        "\n",
        "sns.kdeplot(data['SGOT_AST'][(data['Stroke'] == 0)], color='Red', shade=True, ax = ax[0, 1])\n",
        "sns.kdeplot(data['SGOT_AST'][(data['Stroke'] == 1)], color='Blue', shade=True, ax = ax[0, 1])\n",
        "ax[0, 1].set_xlabel(\"SGOT_AST\")\n",
        "ax[0, 1].legend(['No Stroke', 'Stroke'])\n",
        "\n",
        "sns.kdeplot(data['SGPT_ALT'][(data['Stroke'] == 0)], color='Red', shade=True, ax = ax[1, 0])\n",
        "sns.kdeplot(data['SGPT_ALT'][(data['Stroke'] == 1)], color='Blue', shade=True, ax = ax[1, 0])\n",
        "ax[1, 0].set_xlabel(\"SGPT_ALT\")\n",
        "ax[1, 0].legend(['No Stroke', 'Stroke'])\n",
        "\n",
        "sns.kdeplot(data['GAMMA_GTP'][(data['Stroke'] == 0)], color='Red', shade=True, ax = ax[1, 1])\n",
        "sns.kdeplot(data['GAMMA_GTP'][(data['Stroke'] == 1)], color='Blue', shade=True, ax = ax[1, 1])\n",
        "ax[1, 1].set_xlabel(\"GAMMA_GTP\")\n",
        "ax[1, 1].legend(['No Stroke', 'Stroke'])"
      ],
      "execution_count": null,
      "outputs": []
    },
    {
      "cell_type": "code",
      "metadata": {
        "id": "mi2vyXNAzNqC"
      },
      "source": [
        "#본인 병력 유무 vs Stroke\n",
        "fig, ax = plt.subplots(figsize = (18, 8))\n",
        "g = sns.heatmap(data[['Stroke', 'HCHK_APOP_PMH_YN', 'HCHK_HDISE_PMH_YN', 'HCHK_HPRTS_PMH_YN', 'HCHK_DIABML_PMH_YN', 'HCHK_HPLPDM_PMH_YN', 'HCHK_PHSS_PMH_YN', 'HCHK_ETCDSE_PMH_YN']].corr(), annot=True, fmt=\".2f\", cmap=\"coolwarm\")"
      ],
      "execution_count": null,
      "outputs": []
    },
    {
      "cell_type": "code",
      "metadata": {
        "id": "_-p3DifFzNsl"
      },
      "source": [
        "# HCHK_APOP_PMH_YN 뇌졸중과거병력유무\n",
        "g = sns.factorplot(x='HCHK_APOP_PMH_YN', y='Stroke', data=data, kind = 'bar', size=6, palette = 'muted')\n",
        "g.despine(left=True)\n",
        "g = g.set_ylabels('Stroke probability')"
      ],
      "execution_count": null,
      "outputs": []
    },
    {
      "cell_type": "code",
      "metadata": {
        "id": "Y7ewGY1OGTbg"
      },
      "source": [
        "sns.factorplot(y='DFAB_GRD_CD', x='HCHK_APOP_PMH_YN', data=data, hue='HCHK_APOP_PMH_YN', kind='bar')\n"
      ],
      "execution_count": null,
      "outputs": []
    },
    {
      "cell_type": "code",
      "metadata": {
        "id": "jH2m7TW8zNu6"
      },
      "source": [
        "#심장병\n",
        "g = sns.factorplot(x='HCHK_HDISE_PMH_YN', y='Stroke', data=data, kind = 'bar', size=6, palette = 'muted')\n",
        "g.despine(left=True)\n",
        "g = g.set_ylabels('Stroke probability')"
      ],
      "execution_count": null,
      "outputs": []
    },
    {
      "cell_type": "code",
      "metadata": {
        "id": "PdpGwk3SqsVk"
      },
      "source": [
        "#고혈압\n",
        "g = sns.factorplot(x='HCHK_HPRTS_PMH_YN', y='Stroke', data=data, kind = 'bar', size=6, palette = 'muted')\n",
        "g.despine(left=True)\n",
        "g = g.set_ylabels('Stroke probability')"
      ],
      "execution_count": null,
      "outputs": []
    },
    {
      "cell_type": "code",
      "metadata": {
        "id": "jlCcztm3qsaH"
      },
      "source": [
        "#당뇨병\n",
        "g = sns.factorplot(x='HCHK_DIABML_PMH_YN', y='Stroke', data=data, kind = 'bar', size=6, palette = 'muted')\n",
        "g.despine(left=True)\n",
        "g = g.set_ylabels('Stroke probability')"
      ],
      "execution_count": null,
      "outputs": []
    },
    {
      "cell_type": "code",
      "metadata": {
        "id": "baMEJIpQqseP"
      },
      "source": [
        "#고지혈증\n",
        "g = sns.factorplot(x='HCHK_HPLPDM_PMH_YN', y='Stroke', data=data, kind = 'bar', size=6, palette = 'muted')\n",
        "g.despine(left=True)\n",
        "g = g.set_ylabels('Stroke probability')"
      ],
      "execution_count": null,
      "outputs": []
    },
    {
      "cell_type": "code",
      "metadata": {
        "id": "IoLlPnKEqsn2"
      },
      "source": [
        "#폐결핵\n",
        "g = sns.factorplot(x='HCHK_PHSS_PMH_YN', y='Stroke', data=data, kind = 'bar', size=6, palette = 'muted')\n",
        "g.despine(left=True)\n",
        "g = g.set_ylabels('Stroke probability')"
      ],
      "execution_count": null,
      "outputs": []
    },
    {
      "cell_type": "code",
      "metadata": {
        "id": "gR8r9MwGqsra"
      },
      "source": [
        "#기타질환(암포함)\n",
        "g = sns.factorplot(x='HCHK_ETCDSE_PMH_YN', y='Stroke', data=data, kind = 'bar', size=6, palette = 'muted')\n",
        "g.despine(left=True)\n",
        "g = g.set_ylabels('Stroke probability')"
      ],
      "execution_count": null,
      "outputs": []
    },
    {
      "cell_type": "code",
      "metadata": {
        "id": "VBI7y7izqsux"
      },
      "source": [
        "#가족력 vs Stroke\n",
        "fig, ax = plt.subplots(figsize = (8, 8))\n",
        "g = sns.heatmap(data[['Stroke', 'FMLY_APOP_PATIEN_YN', 'FMLY_HDISE_PATIEN_YN', 'FMLY_HPRTS_PATIEN_YN', 'FMLY_DIABML_PATIEN_YN', 'FMLY_CANCER_PATIEN_YN']].corr(), annot=True, fmt=\".2f\", cmap=\"coolwarm\")"
      ],
      "execution_count": null,
      "outputs": []
    },
    {
      "cell_type": "code",
      "metadata": {
        "id": "49h2dpP5su72"
      },
      "source": [
        "#가족력 뇌졸중\n",
        "g = sns.factorplot(x='FMLY_APOP_PATIEN_YN', y='Stroke', data=data, kind = 'bar', size=6, palette = 'muted')\n",
        "g.despine(left=True)\n",
        "g = g.set_ylabels('Stroke probability')"
      ],
      "execution_count": null,
      "outputs": []
    },
    {
      "cell_type": "code",
      "metadata": {
        "id": "3l9U_LwgqsyB"
      },
      "source": [
        "#가족력 심장병\n",
        "g = sns.factorplot(x='FMLY_HDISE_PATIEN_YN', y='Stroke', data=data, kind = 'bar', size=6, palette = 'muted')\n",
        "g.despine(left=True)\n",
        "g = g.set_ylabels('Stroke probability')"
      ],
      "execution_count": null,
      "outputs": []
    },
    {
      "cell_type": "code",
      "metadata": {
        "id": "FAVdwlboqs1k"
      },
      "source": [
        "#가족력 고혈압\n",
        "g = sns.factorplot(x='FMLY_HPRTS_PATIEN_YN', y='Stroke', data=data, kind = 'bar', size=6, palette = 'muted')\n",
        "g.despine(left=True)\n",
        "g = g.set_ylabels('Stroke probability')"
      ],
      "execution_count": null,
      "outputs": []
    },
    {
      "cell_type": "code",
      "metadata": {
        "id": "AZ3komDqzNxN"
      },
      "source": [
        "#가족력 당뇨병\n",
        "g = sns.factorplot(x='FMLY_DIABML_PATIEN_YN', y='Stroke', data=data, kind = 'bar', size=6, palette = 'muted')\n",
        "g.despine(left=True)\n",
        "g = g.set_ylabels('Stroke probability')"
      ],
      "execution_count": null,
      "outputs": []
    },
    {
      "cell_type": "code",
      "metadata": {
        "id": "fDzMbxY1zNzV"
      },
      "source": [
        "#가족력 기타(암포함)환자유무\n",
        "g = sns.factorplot(x='FMLY_CANCER_PATIEN_YN', y='Stroke', data=data, kind = 'bar', size=6, palette = 'muted')\n",
        "g.despine(left=True)\n",
        "g = g.set_ylabels('Stroke probability')"
      ],
      "execution_count": null,
      "outputs": []
    },
    {
      "cell_type": "code",
      "metadata": {
        "id": "FbtFvqEPzN1g"
      },
      "source": [
        "#흡연, 음주, 생활습관 vs Stroke\n",
        "fig, ax = plt.subplots(figsize = (18, 12))\n",
        "g = sns.heatmap(data[['Stroke', 'SMK_STAT_TYPE_RSPS_CD', 'PAST_SMK_TERM_RSPS_CD', 'CUR_SMK_TERM_RSPS_CD', 'CUR_DSQTY_RSPS_CD', 'DRNK_HABIT_RSPS_CD', 'TM1_DRKQTY_RSPS_CD', 'MOV20_WEK_FREQ_ID', 'MOV30_WEK_FREQ_ID', 'WLK30_WEK_FREQ_ID']].corr(), annot=True, fmt=\".2f\", cmap=\"coolwarm\")"
      ],
      "execution_count": null,
      "outputs": []
    },
    {
      "cell_type": "code",
      "metadata": {
        "id": "uxeKYvBWZhzA"
      },
      "source": [
        "#흡연, 음주, 생활습관 vs Stroke\n",
        "fig, ax = plt.subplots(figsize = (12, 9))\n",
        "g = sns.heatmap(data[['SMK_STAT_TYPE_RSPS_CD', 'DRNK_HABIT_RSPS_CD', 'TM1_DRKQTY_RSPS_CD']].corr(), annot=True, fmt=\".2f\", cmap=\"coolwarm\")"
      ],
      "execution_count": null,
      "outputs": []
    },
    {
      "cell_type": "code",
      "metadata": {
        "id": "k7cKZb2nuQ5s"
      },
      "source": [
        "#흡연상태\n",
        "g = sns.factorplot(x='SMK_STAT_TYPE_RSPS_CD', y='Stroke', data=data, kind = 'bar', size=6, palette = 'muted')\n",
        "g.despine(left=True)\n",
        "g = g.set_ylabels('Stroke probability')"
      ],
      "execution_count": null,
      "outputs": []
    },
    {
      "cell_type": "code",
      "metadata": {
        "id": "AO2PsXBKuQ-f"
      },
      "source": [
        "#흡연기간, 하루흡연량 과거, 현재\n",
        "f , ax = plt.subplots(2, 2, figsize=(12,6))\n",
        "sns.kdeplot(data['PAST_SMK_TERM_RSPS_CD'][(data['Stroke'] == 0)], color='Red', shade=True, ax=ax[0, 0])\n",
        "sns.kdeplot(data['PAST_SMK_TERM_RSPS_CD'][(data['Stroke'] == 1)], color='Blue', shade=True, ax = ax[0,0])\n",
        "ax[0, 0].set_xlabel(\"PAST_SMK_TERM_RSPS_CD\")\n",
        "ax[0, 0].legend(['No Stroke', 'Stroke'])\n",
        "\n",
        "sns.kdeplot(data['PAST_DSQTY_RSPS_CD'][(data['Stroke'] == 0)], color='Red', shade=True, ax= ax[0, 1])\n",
        "sns.kdeplot(data['PAST_DSQTY_RSPS_CD'][(data['Stroke'] == 1)], color='Blue', shade=True, ax = ax[0, 1])\n",
        "ax[0, 1].set_xlabel(\"PAST_DSQTY_RSPS_CD\")\n",
        "ax[0, 1].legend(['No Stroke', 'Stroke'])\n",
        "\n",
        "sns.kdeplot(data['CUR_SMK_TERM_RSPS_CD'][(data['Stroke'] == 0)], color='Red', shade=True, ax = ax[1, 0])\n",
        "sns.kdeplot(data['CUR_SMK_TERM_RSPS_CD'][(data['Stroke'] == 1)], color='Blue', shade=True, ax = ax[1, 0])\n",
        "ax[1, 0].set_xlabel(\"CUR_SMK_TERM_RSPS_CD\")\n",
        "ax[1, 0].legend(['No Stroke', 'Stroke'])\n",
        "\n",
        "sns.kdeplot(data['CUR_DSQTY_RSPS_CD'][(data['Stroke'] == 0)], color='Red', shade=True, ax = ax[1, 1])\n",
        "sns.kdeplot(data['CUR_DSQTY_RSPS_CD'][(data['Stroke'] == 1)], color='Blue', shade=True, ax = ax[1, 1])\n",
        "ax[1, 1].set_xlabel(\"CUR_DSQTY_RSPS_CD\")\n",
        "ax[1, 1].legend(['No Stroke', 'Stroke'])"
      ],
      "execution_count": null,
      "outputs": []
    },
    {
      "cell_type": "code",
      "metadata": {
        "id": "pOBp8-ZMuRCz"
      },
      "source": [
        "#음주습관\n",
        "g = sns.kdeplot(data['DRNK_HABIT_RSPS_CD'][(data['Stroke'] == 0)], color='Red', shade=True)\n",
        "sns.kdeplot(data['DRNK_HABIT_RSPS_CD'][(data['Stroke'] == 1)], color='Blue', shade=True, ax = g)"
      ],
      "execution_count": null,
      "outputs": []
    },
    {
      "cell_type": "code",
      "metadata": {
        "id": "GMQDsdHyzN5y"
      },
      "source": [
        "#1회음주량, 흡연기간, 하루흡연량 과거, 현재\n",
        "f , ax = plt.subplots(2, 2, figsize=(14,8))\n",
        "sns.kdeplot(data['TM1_DRKQTY_RSPS_CD'][(data['Stroke'] == 0)], color='Red', shade=True, ax=ax[0, 0])\n",
        "sns.kdeplot(data['TM1_DRKQTY_RSPS_CD'][(data['Stroke'] == 1)], color='Blue', shade=True, ax = ax[0,0])\n",
        "ax[0, 0].set_xlabel(\"TM1_DRKQTY_RSPS_CD\")\n",
        "ax[0, 0].legend(['No Stroke', 'Stroke'])\n",
        "\n",
        "sns.kdeplot(data['MOV20_WEK_FREQ_ID'][(data['Stroke'] == 0)], color='Red', shade=True, ax= ax[0, 1])\n",
        "sns.kdeplot(data['MOV20_WEK_FREQ_ID'][(data['Stroke'] == 1)], color='Blue', shade=True, ax = ax[0, 1])\n",
        "ax[0, 1].set_xlabel(\"MOV20_WEK_FREQ_ID\")\n",
        "ax[0, 1].legend(['No Stroke', 'Stroke'])\n",
        "\n",
        "sns.kdeplot(data['MOV30_WEK_FREQ_ID'][(data['Stroke'] == 0)], color='Red', shade=True, ax = ax[1, 0])\n",
        "sns.kdeplot(data['MOV30_WEK_FREQ_ID'][(data['Stroke'] == 1)], color='Blue', shade=True, ax = ax[1, 0])\n",
        "ax[1, 0].set_xlabel(\"MOV30_WEK_FREQ_ID\")\n",
        "ax[1, 0].legend(['No Stroke', 'Stroke'])\n",
        "\n",
        "sns.kdeplot(data['WLK30_WEK_FREQ_ID'][(data['Stroke'] == 0)], color='Red', shade=True, ax = ax[1, 1])\n",
        "sns.kdeplot(data['WLK30_WEK_FREQ_ID'][(data['Stroke'] == 1)], color='Blue', shade=True, ax = ax[1, 1])\n",
        "ax[1, 1].set_xlabel(\"WLK30_WEK_FREQ_ID\")\n",
        "ax[1, 1].legend(['No Stroke', 'Stroke'])"
      ],
      "execution_count": null,
      "outputs": []
    },
    {
      "cell_type": "code",
      "metadata": {
        "id": "AS-IOGhyuYSH"
      },
      "source": [
        "#가족력 vs Stroke\n",
        "fig, ax = plt.subplots(figsize = (8, 8))\n",
        "g = sns.heatmap(data[['Stroke', 'KDSQ_C', 'KDSQ_C_1', 'KDSQ_C_2', 'KDSQ_C_3', 'KDSQ_C_4', 'KDSQ_C_5']].corr(), annot=True, fmt=\".2f\", cmap=\"coolwarm\")"
      ],
      "execution_count": null,
      "outputs": []
    },
    {
      "cell_type": "code",
      "metadata": {
        "id": "WRTB6dvP2fz_"
      },
      "source": [
        "#KDSQ_C\n",
        "g = sns.factorplot(x='KDSQ_C', y='Stroke', data=data, kind = 'bar', size=6, palette = 'muted')\n",
        "g.despine(left=True)\n",
        "g = g.set_ylabels('Stroke probability')"
      ],
      "execution_count": null,
      "outputs": []
    },
    {
      "cell_type": "code",
      "metadata": {
        "id": "MXyUDlSI2vYg"
      },
      "source": [
        "#KDSQ_C_1\n",
        "g = sns.factorplot(x='KDSQ_C_1', y='Stroke', data=data, kind = 'bar', size=6, palette = 'muted')\n",
        "g.despine(left=True)\n",
        "g = g.set_ylabels('Stroke probability')"
      ],
      "execution_count": null,
      "outputs": []
    },
    {
      "cell_type": "code",
      "metadata": {
        "id": "4yOfHmNN2vj-"
      },
      "source": [
        "#KDSQ_C_2\n",
        "g = sns.factorplot(x='KDSQ_C_2', y='Stroke', data=data, kind = 'bar', size=6, palette = 'muted')\n",
        "g.despine(left=True)\n",
        "g = g.set_ylabels('Stroke probability')"
      ],
      "execution_count": null,
      "outputs": []
    },
    {
      "cell_type": "code",
      "metadata": {
        "id": "lbX79oxr2vp6"
      },
      "source": [
        "#KDSQ_C_3\n",
        "g = sns.factorplot(x='KDSQ_C_3', y='Stroke', data=data, kind = 'bar', size=6, palette = 'muted')\n",
        "g.despine(left=True)\n",
        "g = g.set_ylabels('Stroke probability')"
      ],
      "execution_count": null,
      "outputs": []
    },
    {
      "cell_type": "code",
      "metadata": {
        "id": "n9sFmUdq2vvy"
      },
      "source": [
        "#KDSQ_C_4\n",
        "g = sns.factorplot(x='KDSQ_C_4', y='Stroke', data=data, kind = 'bar', size=6, palette = 'muted')\n",
        "g.despine(left=True)\n",
        "g = g.set_ylabels('Stroke probability')"
      ],
      "execution_count": null,
      "outputs": []
    },
    {
      "cell_type": "code",
      "metadata": {
        "id": "PPBeRG4n2v07"
      },
      "source": [
        "#KDSQ_C_5\n",
        "g = sns.factorplot(x='KDSQ_C_5', y='Stroke', data=data, kind = 'bar', size=6, palette = 'muted')\n",
        "g.despine(left=True)\n",
        "g = g.set_ylabels('Stroke probability')"
      ],
      "execution_count": null,
      "outputs": []
    },
    {
      "cell_type": "code",
      "metadata": {
        "id": "WtyOYmr0FMw2"
      },
      "source": [
        "#fill Null with DRNK_HABIT's mean value\n",
        "data['DRNK_HABIT_RSPS_CD'].mean()"
      ],
      "execution_count": null,
      "outputs": []
    },
    {
      "cell_type": "code",
      "metadata": {
        "id": "YwoZjByHFMFK"
      },
      "source": [
        "data['DRNK_HABIT_RSPS_CD'] = data['DRNK_HABIT_RSPS_CD'].fillna(2)"
      ],
      "execution_count": null,
      "outputs": []
    },
    {
      "cell_type": "code",
      "metadata": {
        "id": "xXcIUkdrHocx"
      },
      "source": [
        "data.groupby('DRNK_HABIT_RSPS_CD')['TM1_DRKQTY_RSPS_CD'].mean()"
      ],
      "execution_count": null,
      "outputs": []
    },
    {
      "cell_type": "code",
      "metadata": {
        "id": "CiNZEOf056-r"
      },
      "source": [
        "#fill Null TM1_DRNKQTY_RSPS_CD\n",
        "data.loc[((data.DRNK_HABIT_RSPS_CD == 1) & data.TM1_DRKQTY_RSPS_CD.isnull()), 'TM1_DRKQTY_RSPS_CD'] = 0\n",
        "data.loc[((data.DRNK_HABIT_RSPS_CD == 2) & data.TM1_DRKQTY_RSPS_CD.isnull()), 'TM1_DRKQTY_RSPS_CD'] = 3\n",
        "data.loc[((data.DRNK_HABIT_RSPS_CD == 3) & data.TM1_DRKQTY_RSPS_CD.isnull()), 'TM1_DRKQTY_RSPS_CD'] = 4\n",
        "data.loc[((data.DRNK_HABIT_RSPS_CD == 4) & data.TM1_DRKQTY_RSPS_CD.isnull()), 'TM1_DRKQTY_RSPS_CD'] = 5\n",
        "data.loc[((data.DRNK_HABIT_RSPS_CD == 5) & data.TM1_DRKQTY_RSPS_CD.isnull()), 'TM1_DRKQTY_RSPS_CD'] = 5\n",
        "data.loc[((data.DRNK_HABIT_RSPS_CD == 6) & data.TM1_DRKQTY_RSPS_CD.isnull()), 'TM1_DRKQTY_RSPS_CD'] = 5\n",
        "data.loc[((data.DRNK_HABIT_RSPS_CD == 7) & data.TM1_DRKQTY_RSPS_CD.isnull()), 'TM1_DRKQTY_RSPS_CD'] = 6\n",
        "data.loc[((data.DRNK_HABIT_RSPS_CD == 8) & data.TM1_DRKQTY_RSPS_CD.isnull()), 'TM1_DRKQTY_RSPS_CD'] = 6\n"
      ],
      "execution_count": null,
      "outputs": []
    },
    {
      "cell_type": "code",
      "metadata": {
        "id": "Lm6UzK4257Dc"
      },
      "source": [
        "#fill Null with MOV20_WEK_RSPS_CD's mean\n",
        "data['MOV20_WEK_FREQ_ID'].mean()"
      ],
      "execution_count": null,
      "outputs": []
    },
    {
      "cell_type": "code",
      "metadata": {
        "id": "Uvss46ZU57KV"
      },
      "source": [
        "data['MOV20_WEK_FREQ_ID'] = data['MOV20_WEK_FREQ_ID'].fillna(2)"
      ],
      "execution_count": null,
      "outputs": []
    },
    {
      "cell_type": "code",
      "metadata": {
        "id": "GtETk98T57Mp"
      },
      "source": [
        "#fill LDL_CHOLE with mean "
      ],
      "execution_count": null,
      "outputs": []
    },
    {
      "cell_type": "code",
      "metadata": {
        "id": "e0Vr8jGN57O_"
      },
      "source": [
        "data['LDL_CHOLE'].mean()"
      ],
      "execution_count": null,
      "outputs": []
    },
    {
      "cell_type": "code",
      "metadata": {
        "id": "zRTyJmXt57RO"
      },
      "source": [
        "data['LDL_CHOLE'].isnull().sum()"
      ],
      "execution_count": null,
      "outputs": []
    },
    {
      "cell_type": "code",
      "metadata": {
        "id": "lOP5lPAe57VV"
      },
      "source": [
        "data['LDL_CHOLE'] = data['LDL_CHOLE'].fillna(116.2)"
      ],
      "execution_count": null,
      "outputs": []
    },
    {
      "cell_type": "code",
      "metadata": {
        "id": "SGewsWDM57Xu"
      },
      "source": [
        "#fill WLK30_WEK_FREQ_ID\n",
        "data.groupby('MOV20_WEK_FREQ_ID')['WLK30_WEK_FREQ_ID'].mean()"
      ],
      "execution_count": null,
      "outputs": []
    },
    {
      "cell_type": "code",
      "metadata": {
        "id": "o0acVQPtNTMC"
      },
      "source": [
        "data.loc[((data.MOV20_WEK_FREQ_ID == 1) & data.WLK30_WEK_FREQ_ID.isnull()), 'WLK30_WEK_FREQ_ID'] = 3\n",
        "data.loc[((data.MOV20_WEK_FREQ_ID == 2) & data.WLK30_WEK_FREQ_ID.isnull()), 'WLK30_WEK_FREQ_ID'] = 4\n",
        "data.loc[((data.MOV20_WEK_FREQ_ID == 3) & data.WLK30_WEK_FREQ_ID.isnull()), 'WLK30_WEK_FREQ_ID'] = 4\n",
        "data.loc[((data.MOV20_WEK_FREQ_ID == 4) & data.WLK30_WEK_FREQ_ID.isnull()), 'WLK30_WEK_FREQ_ID'] = 4\n",
        "data.loc[((data.MOV20_WEK_FREQ_ID == 5) & data.WLK30_WEK_FREQ_ID.isnull()), 'WLK30_WEK_FREQ_ID'] = 5\n",
        "data.loc[((data.MOV20_WEK_FREQ_ID == 6) & data.WLK30_WEK_FREQ_ID.isnull()), 'WLK30_WEK_FREQ_ID'] = 5\n",
        "data.loc[((data.MOV20_WEK_FREQ_ID == 7) & data.WLK30_WEK_FREQ_ID.isnull()), 'WLK30_WEK_FREQ_ID'] = 6\n",
        "data.loc[((data.MOV20_WEK_FREQ_ID == 8) & data.WLK30_WEK_FREQ_ID.isnull()), 'WLK30_WEK_FREQ_ID'] = 7\n"
      ],
      "execution_count": null,
      "outputs": []
    },
    {
      "cell_type": "code",
      "metadata": {
        "id": "dcbNsUszQxEN"
      },
      "source": [
        "data.groupby('MOV20_WEK_FREQ_ID')['MOV30_WEK_FREQ_ID'].mean()"
      ],
      "execution_count": null,
      "outputs": []
    },
    {
      "cell_type": "code",
      "metadata": {
        "id": "WcMffnR7QxIb"
      },
      "source": [
        "data.loc[((data.MOV20_WEK_FREQ_ID == 1) & data.MOV30_WEK_FREQ_ID.isnull()), 'MOV30_WEK_FREQ_ID'] = 2\n",
        "data.loc[((data.MOV20_WEK_FREQ_ID == 2) & data.MOV30_WEK_FREQ_ID.isnull()), 'MOV30_WEK_FREQ_ID'] = 2\n",
        "data.loc[((data.MOV20_WEK_FREQ_ID == 3) & data.MOV30_WEK_FREQ_ID.isnull()), 'MOV30_WEK_FREQ_ID'] = 3\n",
        "data.loc[((data.MOV20_WEK_FREQ_ID == 4) & data.MOV30_WEK_FREQ_ID.isnull()), 'MOV30_WEK_FREQ_ID'] = 4\n",
        "data.loc[((data.MOV20_WEK_FREQ_ID == 5) & data.MOV30_WEK_FREQ_ID.isnull()), 'MOV30_WEK_FREQ_ID'] = 4\n",
        "data.loc[((data.MOV20_WEK_FREQ_ID == 6) & data.MOV30_WEK_FREQ_ID.isnull()), 'MOV30_WEK_FREQ_ID'] = 5\n",
        "data.loc[((data.MOV20_WEK_FREQ_ID == 7) & data.MOV30_WEK_FREQ_ID.isnull()), 'MOV30_WEK_FREQ_ID'] = 5\n",
        "data.loc[((data.MOV20_WEK_FREQ_ID == 8) & data.MOV30_WEK_FREQ_ID.isnull()), 'MOV30_WEK_FREQ_ID'] = 6\n"
      ],
      "execution_count": null,
      "outputs": []
    },
    {
      "cell_type": "code",
      "metadata": {
        "id": "QVHsHDyaQxRr"
      },
      "source": [
        "#fill SMK_STAT_TYPE_RSPS_CD"
      ],
      "execution_count": null,
      "outputs": []
    },
    {
      "cell_type": "code",
      "metadata": {
        "id": "CiVA-e_FQxc1"
      },
      "source": [
        "data.groupby('DRNK_HABIT_RSPS_CD')['SMK_STAT_TYPE_RSPS_CD'].mean()"
      ],
      "execution_count": null,
      "outputs": []
    },
    {
      "cell_type": "code",
      "metadata": {
        "id": "OQLETaZlQxgt"
      },
      "source": [
        "data.loc[((data.DRNK_HABIT_RSPS_CD == 1) & data.SMK_STAT_TYPE_RSPS_CD.isnull()), 'SMK_STAT_TYPE_RSPS_CD'] = 1\n",
        "data.loc[((data.DRNK_HABIT_RSPS_CD == 2) & data.SMK_STAT_TYPE_RSPS_CD.isnull()), 'SMK_STAT_TYPE_RSPS_CD'] = 2\n",
        "data.loc[((data.DRNK_HABIT_RSPS_CD == 3) & data.SMK_STAT_TYPE_RSPS_CD.isnull()), 'SMK_STAT_TYPE_RSPS_CD'] = 2\n",
        "data.loc[((data.DRNK_HABIT_RSPS_CD == 4) & data.SMK_STAT_TYPE_RSPS_CD.isnull()), 'SMK_STAT_TYPE_RSPS_CD'] = 2\n",
        "data.loc[((data.DRNK_HABIT_RSPS_CD == 5) & data.SMK_STAT_TYPE_RSPS_CD.isnull()), 'SMK_STAT_TYPE_RSPS_CD'] = 2\n",
        "data.loc[((data.DRNK_HABIT_RSPS_CD == 6) & data.SMK_STAT_TYPE_RSPS_CD.isnull()), 'SMK_STAT_TYPE_RSPS_CD'] = 2\n",
        "data.loc[((data.DRNK_HABIT_RSPS_CD == 7) & data.SMK_STAT_TYPE_RSPS_CD.isnull()), 'SMK_STAT_TYPE_RSPS_CD'] = 2\n",
        "data.loc[((data.DRNK_HABIT_RSPS_CD == 8) & data.SMK_STAT_TYPE_RSPS_CD.isnull()), 'SMK_STAT_TYPE_RSPS_CD'] = 2\n"
      ],
      "execution_count": null,
      "outputs": []
    },
    {
      "cell_type": "code",
      "metadata": {
        "id": "OUdZrmb9Qxne"
      },
      "source": [
        "#fill OLIG_PROTE_CD"
      ],
      "execution_count": null,
      "outputs": []
    },
    {
      "cell_type": "code",
      "metadata": {
        "id": "BtQDswKhQxfW"
      },
      "source": [
        "data['OLIG_PROTE_CD'].mean()"
      ],
      "execution_count": null,
      "outputs": []
    },
    {
      "cell_type": "code",
      "metadata": {
        "id": "40IOArMnQxb2"
      },
      "source": [
        "data['OLIG_PROTE_CD'].fillna(1.0, inplace=True)"
      ],
      "execution_count": null,
      "outputs": []
    },
    {
      "cell_type": "code",
      "metadata": {
        "id": "mqqJYwQMQxWl"
      },
      "source": [
        "#fill GAMMA_GTP, BLDS"
      ],
      "execution_count": null,
      "outputs": []
    },
    {
      "cell_type": "code",
      "metadata": {
        "id": "_hqPXsEuQxUy"
      },
      "source": [
        "data['GAMMA_GTP'].mean()"
      ],
      "execution_count": null,
      "outputs": []
    },
    {
      "cell_type": "code",
      "metadata": {
        "id": "gFCZa_mIQxN_"
      },
      "source": [
        "data['GAMMA_GTP'].fillna(33, inplace=True)"
      ],
      "execution_count": null,
      "outputs": []
    },
    {
      "cell_type": "code",
      "metadata": {
        "id": "P0IHQ2xmo1x5"
      },
      "source": [
        "data['BLDS'].mean()"
      ],
      "execution_count": null,
      "outputs": []
    },
    {
      "cell_type": "code",
      "metadata": {
        "id": "ce_06aV4o12b"
      },
      "source": [
        "data['BLDS'].fillna(104, inplace=True)"
      ],
      "execution_count": null,
      "outputs": []
    },
    {
      "cell_type": "code",
      "metadata": {
        "id": "9fVTIQtdo149"
      },
      "source": [
        "data['BLDS'].isnull().sum()"
      ],
      "execution_count": null,
      "outputs": []
    },
    {
      "cell_type": "code",
      "metadata": {
        "id": "7LG4T6FBo17y"
      },
      "source": [
        "#fill SGOT_AST, SGPT_ALT, CREATININE -> mean\n",
        "data['SGOT_AST'].mean()"
      ],
      "execution_count": null,
      "outputs": []
    },
    {
      "cell_type": "code",
      "metadata": {
        "id": "DeaKBDgZo2AO"
      },
      "source": [
        "data['SGOT_AST'].fillna(26.8, inplace=True)"
      ],
      "execution_count": null,
      "outputs": []
    },
    {
      "cell_type": "code",
      "metadata": {
        "id": "HPExjHqCo2ES"
      },
      "source": [
        "data['SGPT_ALT'].mean()"
      ],
      "execution_count": null,
      "outputs": []
    },
    {
      "cell_type": "code",
      "metadata": {
        "id": "BMUsQVwzo2In"
      },
      "source": [
        "data['SGPT_ALT'].fillna(22.0, inplace=True)"
      ],
      "execution_count": null,
      "outputs": []
    },
    {
      "cell_type": "code",
      "metadata": {
        "id": "mll3FoQ2o2PF"
      },
      "source": [
        "data['CREATININE'].mean()"
      ],
      "execution_count": null,
      "outputs": []
    },
    {
      "cell_type": "code",
      "metadata": {
        "id": "p62XBFtTo2Vj"
      },
      "source": [
        "data['CREATININE'].fillna(1.0, inplace=True)"
      ],
      "execution_count": null,
      "outputs": []
    },
    {
      "cell_type": "code",
      "metadata": {
        "id": "wMgSwEq8o2Yn"
      },
      "source": [
        "#TOT_CHOLE, HDL_CHOLE, HMG, TRIGLYCERIDE -> mean\n",
        "data['TOT_CHOLE'].mean()"
      ],
      "execution_count": null,
      "outputs": []
    },
    {
      "cell_type": "code",
      "metadata": {
        "id": "H1BvTtMto2c8"
      },
      "source": [
        "data['TOT_CHOLE'].fillna(196.5, inplace=True)"
      ],
      "execution_count": null,
      "outputs": []
    },
    {
      "cell_type": "code",
      "metadata": {
        "id": "7Xa8TR7ao2hU"
      },
      "source": [
        "data['HDL_CHOLE'].mean()"
      ],
      "execution_count": null,
      "outputs": []
    },
    {
      "cell_type": "code",
      "metadata": {
        "id": "rqz3vdLdo2mS"
      },
      "source": [
        "data['HDL_CHOLE'].fillna(53.9, inplace=True)"
      ],
      "execution_count": null,
      "outputs": []
    },
    {
      "cell_type": "code",
      "metadata": {
        "id": "esrzaHWCo2ql"
      },
      "source": [
        "data['HMG'].mean()"
      ],
      "execution_count": null,
      "outputs": []
    },
    {
      "cell_type": "code",
      "metadata": {
        "id": "-Kw8et11o2vJ"
      },
      "source": [
        "data['HMG'].fillna(13.2, inplace=True)"
      ],
      "execution_count": null,
      "outputs": []
    },
    {
      "cell_type": "code",
      "metadata": {
        "id": "9LCxDaXzo2xw"
      },
      "source": [
        "data['TRIGLYCERIDE'].mean()"
      ],
      "execution_count": null,
      "outputs": []
    },
    {
      "cell_type": "code",
      "metadata": {
        "id": "AKcpkY6Do2tQ"
      },
      "source": [
        "data['TRIGLYCERIDE'].fillna(139.1, inplace=True)"
      ],
      "execution_count": null,
      "outputs": []
    },
    {
      "cell_type": "code",
      "metadata": {
        "id": "TFAJD-RDo2ov"
      },
      "source": [
        "#BP_HIGH, BP_LWST fillna -> mean"
      ],
      "execution_count": null,
      "outputs": []
    },
    {
      "cell_type": "code",
      "metadata": {
        "id": "lHyhb7GG5X89"
      },
      "source": [
        "print('BP_HIGH mean : {}, BP_LWST.mean : {}'.format(data['BP_HIGH'].mean(), data['BP_LWST'].mean()))"
      ],
      "execution_count": null,
      "outputs": []
    },
    {
      "cell_type": "code",
      "metadata": {
        "id": "G-mbv5jI5X_g"
      },
      "source": [
        "data['BP_HIGH'].fillna(130.6, inplace=True)\n",
        "data['BP_LWST'].fillna(78.1, inplace=True)"
      ],
      "execution_count": null,
      "outputs": []
    },
    {
      "cell_type": "code",
      "metadata": {
        "id": "8gNoAo5q5YDz"
      },
      "source": [
        "print(\"BP_HIGH null : {}, BP_LWST null: {}\".format(data['BP_HIGH'].isnull().sum(), data['BP_LWST'].isnull().sum()))"
      ],
      "execution_count": null,
      "outputs": []
    },
    {
      "cell_type": "code",
      "metadata": {
        "id": "cR1sCCgP5YIV"
      },
      "source": [
        "#WEIGHT, HEIGHT, WAIST"
      ],
      "execution_count": null,
      "outputs": []
    },
    {
      "cell_type": "code",
      "metadata": {
        "id": "4IQdtO-_5Yld"
      },
      "source": [
        "data[(data['HEIGHT'].isnull())]['WEIGHT'].isnull()"
      ],
      "execution_count": null,
      "outputs": []
    },
    {
      "cell_type": "code",
      "metadata": {
        "id": "15qeZxGN5YM0"
      },
      "source": [
        "data['HEIGHT'].describe()"
      ],
      "execution_count": null,
      "outputs": []
    },
    {
      "cell_type": "code",
      "metadata": {
        "id": "Eerb9jWITByh"
      },
      "source": [
        "data['HEIGHT'].fillna(156.3, inplace=True)"
      ],
      "execution_count": null,
      "outputs": []
    },
    {
      "cell_type": "code",
      "metadata": {
        "id": "GSc-wH39TIG2"
      },
      "source": [
        "data['HEIGHT'].isnull().sum()"
      ],
      "execution_count": null,
      "outputs": []
    },
    {
      "cell_type": "code",
      "metadata": {
        "id": "Fm89OvD95YTj"
      },
      "source": [
        "temp = []\n",
        "for i in range(109, 223, 10):\n",
        "    temp.append(data[((i <= data['HEIGHT']) & (data['HEIGHT'] < (i+10)))]['WEIGHT'].sum() / len(data[((i <= data['HEIGHT']) & (data['HEIGHT'] < (i+10)))]['WEIGHT']))\n",
        "    plt.figure(figsize=(7, 7))\n",
        "plt.xlabel('HEIGHT')\n",
        "plt.ylabel('WEIGHT')\n",
        "plt.plot(temp)"
      ],
      "execution_count": null,
      "outputs": []
    },
    {
      "cell_type": "code",
      "metadata": {
        "id": "HrjyuJFw5Yg8"
      },
      "source": [
        "#209 ~220 -> 62.8로 채움\n",
        "data.loc[(((109 <= data.HEIGHT) & (data.HEIGHT < 119)) & data.WEIGHT.isnull()), 'WEIGHT'] = 40.3\n",
        "data.loc[(((119 <= data.HEIGHT) & (data.HEIGHT < 129)) & data.WEIGHT.isnull()), 'WEIGHT'] = 38.8\n",
        "data.loc[(((129 <= data.HEIGHT) & (data.HEIGHT < 139)) & data.WEIGHT.isnull()), 'WEIGHT'] = 42.5\n",
        "data.loc[(((139 <= data.HEIGHT) & (data.HEIGHT < 149)) & data.WEIGHT.isnull()), 'WEIGHT'] = 50.3\n",
        "data.loc[(((149 <= data.HEIGHT) & (data.HEIGHT < 159)) & data.WEIGHT.isnull()), 'WEIGHT'] = 56.2\n",
        "data.loc[(((159 <= data.HEIGHT) & (data.HEIGHT < 169)) & data.WEIGHT.isnull()), 'WEIGHT'] = 62.6\n",
        "data.loc[(((169 <= data.HEIGHT) & (data.HEIGHT < 179)) & data.WEIGHT.isnull()), 'WEIGHT'] = 69.0\n",
        "data.loc[(((179 <= data.HEIGHT) & (data.HEIGHT < 189)) & data.WEIGHT.isnull()), 'WEIGHT'] = 76.4\n",
        "data.loc[(((189 <= data.HEIGHT) & (data.HEIGHT < 199)) & data.WEIGHT.isnull()), 'WEIGHT'] = 62.8\n",
        "data.loc[(((199 <= data.HEIGHT) & (data.HEIGHT < 209)) & data.WEIGHT.isnull()), 'WEIGHT'] = 62.8\n",
        "data.loc[(((209 <= data.HEIGHT) & (data.HEIGHT < 219)) & data.WEIGHT.isnull()), 'WEIGHT'] = 62.8\n",
        "data.loc[(((219 <= data.HEIGHT) & (data.HEIGHT < 223)) & data.WEIGHT.isnull()), 'WEIGHT'] = 63.0\n"
      ],
      "execution_count": null,
      "outputs": []
    },
    {
      "cell_type": "code",
      "metadata": {
        "id": "PG9rYdovQ5ca"
      },
      "source": [
        "temp_waist = []\n",
        "for i in range(25, 170, 29):\n",
        "    temp_waist.append(data[((i <= data['WEIGHT']) & (data['WEIGHT'] < (i+29)))]['WAIST'].sum() / len(data[((i <= data['WEIGHT']) & (data['WEIGHT'] < (i+29)))]['WAIST']))\n",
        "    plt.figure(figsize=(7, 7))\n",
        "plt.xlabel('WEIGHT')\n",
        "plt.ylabel('WAIST')\n",
        "plt.plot(temp_waist)"
      ],
      "execution_count": null,
      "outputs": []
    },
    {
      "cell_type": "code",
      "metadata": {
        "id": "Kkc_1WypQ5hg"
      },
      "source": [
        "data.loc[(((25 <= data.WEIGHT) & (data.WEIGHT < 54)) & data.WAIST.isnull()), 'WAIST'] = 76.1\n",
        "data.loc[(((54 <= data.WEIGHT) & (data.WEIGHT < 83)) & data.WAIST.isnull()), 'WAIST'] = 86.0\n",
        "data.loc[(((83 <= data.WEIGHT) & (data.WEIGHT < 112)) & data.WAIST.isnull()), 'WAIST'] = 100.9\n",
        "data.loc[(((112 <= data.WEIGHT) & (data.WEIGHT < 141)) & data.WAIST.isnull()), 'WAIST'] = 101.0\n",
        "data.loc[(((141 <= data.WEIGHT) & (data.WEIGHT < 170)) & data.WAIST.isnull()), 'WAIST'] = 78.0\n"
      ],
      "execution_count": null,
      "outputs": []
    },
    {
      "cell_type": "code",
      "metadata": {
        "id": "vw2ZniSqQ5YF"
      },
      "source": [
        "#FMLY_~ (가족력 유무), 본인 과거병력유무\n",
        "g = sns.factorplot(x='HCHK_APOP_PMH_YN', y='Stroke', hue='FMLY_APOP_PATIEN_YN',data=data, size=6, palette = 'muted')\n",
        "g = sns.factorplot(x='HCHK_HDISE_PMH_YN', y='Stroke', hue='FMLY_HDISE_PATIEN_YN',data=data,  size=6, palette = 'muted')\n",
        "g = sns.factorplot(x='HCHK_HPRTS_PMH_YN', y='Stroke', hue='FMLY_HPRTS_PATIEN_YN',data=data, size=6, palette = 'muted')\n",
        "g = sns.factorplot(x='HCHK_DIABML_PMH_YN', y='Stroke', hue='FMLY_DIABML_PATIEN_YN',data=data, size=6, palette = 'muted')\n",
        "g = sns.factorplot(x='HCHK_ETCDSE_PMH_YN', y='Stroke', hue='FMLY_CANCER_PATIEN_YN',data=data, size=6, palette = 'muted')\n"
      ],
      "execution_count": null,
      "outputs": []
    },
    {
      "cell_type": "code",
      "metadata": {
        "id": "pCEXu-IpQ5WN"
      },
      "source": [
        "data.loc[((data['HCHK_APOP_PMH_YN'] == 1) & (data['FMLY_APOP_PATIEN_YN'].isnull())), 'FMLY_APOP_PATIEN_YN'] = 1\n",
        "data.loc[((data['HCHK_APOP_PMH_YN'] == 0) & (data['FMLY_APOP_PATIEN_YN'].isnull())), 'FMLY_APOP_PATIEN_YN'] = 0\n",
        "data.loc[((data['HCHK_HDISE_PMH_YN'] == 1) & (data['FMLY_HDISE_PATIEN_YN'].isnull())), 'FMLY_HDISE_PATIEN_YN'] = 0\n",
        "data.loc[((data['HCHK_HDISE_PMH_YN'] == 0) & (data['FMLY_HDISE_PATIEN_YN'].isnull())), 'FMLY_HDISE_PATIEN_YN'] = 1\n",
        "data.loc[((data['HCHK_HPRTS_PMH_YN'] == 1) & (data['FMLY_HPRTS_PATIEN_YN'].isnull())), 'FMLY_HPRTS_PATIEN_YN'] = 0\n",
        "data.loc[((data['HCHK_HPRTS_PMH_YN'] == 0) & (data['FMLY_HPRTS_PATIEN_YN'].isnull())), 'FMLY_HPRTS_PATIEN_YN'] = 0\n",
        "data.loc[((data['HCHK_DIABML_PMH_YN'] == 1) & (data['FMLY_DIABML_PATIEN_YN'].isnull())), 'FMLY_DIABML_PATIEN_YN'] = 0\n",
        "data.loc[((data['HCHK_DIABML_PMH_YN'] == 0) & (data['FMLY_DIABML_PATIEN_YN'].isnull())), 'FMLY_DIABML_PATIEN_YN'] = 0\n",
        "data.loc[((data['HCHK_ETCDSE_PMH_YN'] == 1) & (data['FMLY_CANCER_PATIEN_YN'].isnull())), 'FMLY_CANCER_PATIEN_YN'] = 0\n",
        "data.loc[((data['HCHK_ETCDSE_PMH_YN'] == 0) & (data['FMLY_CANCER_PATIEN_YN'].isnull())), 'FMLY_CANCER_PATIEN_YN'] = 0\n"
      ],
      "execution_count": null,
      "outputs": []
    },
    {
      "cell_type": "code",
      "metadata": {
        "id": "sf3hgb-2Q5RY"
      },
      "source": [
        "g = sns.factorplot(x='FMLY_APOP_PATIEN_YN', y='Stroke', hue='HCHK_APOP_PMH_YN',data=data, size=6, palette = 'muted')\n",
        "g = sns.factorplot(x='FMLY_HDISE_PATIEN_YN', y='Stroke', hue='HCHK_HDISE_PMH_YN',data=data,  size=6, palette = 'muted')\n",
        "g = sns.factorplot(x='FMLY_HPRTS_PATIEN_YN', y='Stroke', hue='HCHK_HPRTS_PMH_YN',data=data, size=6, palette = 'muted')\n",
        "g = sns.factorplot(x='FMLY_DIABML_PATIEN_YN', y='Stroke', hue='HCHK_DIABML_PMH_YN',data=data, size=6, palette = 'muted')\n",
        "g = sns.factorplot(x='FMLY_CANCER_PATIEN_YN', y='Stroke', hue='HCHK_ETCDSE_PMH_YN',data=data, size=6, palette = 'muted')\n"
      ],
      "execution_count": null,
      "outputs": []
    },
    {
      "cell_type": "code",
      "metadata": {
        "id": "tZvVSFQ0Q5Oz"
      },
      "source": [
        "data.loc[((data['FMLY_APOP_PATIEN_YN'] == 1) & (data['HCHK_APOP_PMH_YN'].isnull())), 'HCHK_APOP_PMH_YN'] = 1\n",
        "data.loc[((data['FMLY_APOP_PATIEN_YN'] == 0) & (data['HCHK_APOP_PMH_YN'].isnull())), 'HCHK_APOP_PMH_YN'] = 1\n",
        "data.loc[((data['FMLY_HDISE_PATIEN_YN'] == 1) & (data['HCHK_HDISE_PMH_YN'].isnull())), 'HCHK_HDISE_PMH_YN'] = 1\n",
        "data.loc[((data['FMLY_HDISE_PATIEN_YN'] == 0) & (data['HCHK_HDISE_PMH_YN'].isnull())), 'HCHK_HDISE_PMH_YN'] = 1\n",
        "data.loc[((data['FMLY_HPRTS_PATIEN_YN'] == 1) & (data['HCHK_HPRTS_PMH_YN'].isnull())), 'FMLY_HPRTS_PATIEN_YN'] = 1\n",
        "data.loc[((data['FMLY_HPRTS_PATIEN_YN'] == 0) & (data['HCHK_HPRTS_PMH_YN'].isnull())), 'FMLY_HPRTS_PATIEN_YN'] = 1\n",
        "data.loc[((data['FMLY_DIABML_PATIEN_YN'] == 1) & (data['HCHK_DIABML_PMH_YN'].isnull())), 'HCHK_DIABML_PMH_YN'] = 0\n",
        "data.loc[((data['FMLY_DIABML_PATIEN_YN'] == 0) & (data['HCHK_DIABML_PMH_YN'].isnull())), 'HCHK_DIABML_PMH_YN'] = 0\n",
        "data.loc[((data['FMLY_CANCER_PATIEN_YN'] == 1) & (data['HCHK_ETCDSE_PMH_YN'].isnull())), 'HCHK_ETCDSE_PMH_YN'] = 0\n",
        "data.loc[((data['FMLY_CANCER_PATIEN_YN'] == 0) & (data['HCHK_ETCDSE_PMH_YN'].isnull())), 'HCHK_ETCDSE_PMH_YN'] = 1\n"
      ],
      "execution_count": null,
      "outputs": []
    },
    {
      "cell_type": "code",
      "metadata": {
        "id": "m7FcNY7sYl3l"
      },
      "source": [
        "#가족력, 본인과거병력 모두 NaN\n",
        "data['HCHK_APOP_PMH_YN'].fillna(0, inplace=True)\n",
        "data['HCHK_HDISE_PMH_YN'].fillna(0, inplace=True)\n",
        "data['HCHK_HPRTS_PMH_YN'].fillna(0, inplace=True)\n",
        "data['HCHK_DIABML_PMH_YN'].fillna(0, inplace=True)\n",
        "data['HCHK_ETCDSE_PMH_YN'].fillna(0, inplace=True)\n",
        "data['FMLY_APOP_PATIEN_YN'].fillna(0, inplace=True)\n",
        "data['FMLY_HDISE_PATIEN_YN'].fillna(0, inplace=True)\n",
        "data['FMLY_HPRTS_PATIEN_YN'].fillna(0, inplace=True)\n",
        "data['FMLY_DIABML_PATIEN_YN'].fillna(0, inplace=True)\n",
        "data['FMLY_CANCER_PATIEN_YN'].fillna(0, inplace=True)\n"
      ],
      "execution_count": null,
      "outputs": []
    },
    {
      "cell_type": "code",
      "metadata": {
        "id": "Y3voGPKQQ5Mf"
      },
      "source": [
        "#HCHK_HPLPDM_PMH_YN\n",
        "f, ax = plt.subplots(1, 1, figsize=(9, 5))\n",
        "sns.kdeplot(data[data['HCHK_HPLPDM_PMH_YN'] == 1]['LDL_CHOLE'])\n",
        "sns.kdeplot(data[data['HCHK_HPLPDM_PMH_YN'] == 0]['LDL_CHOLE'])\n",
        "plt.legend(['HPLPDM == 1, HPLPDM == 0'])"
      ],
      "execution_count": null,
      "outputs": []
    },
    {
      "cell_type": "code",
      "metadata": {
        "id": "b7pA2SvyQ5K4"
      },
      "source": [
        "f, ax = plt.subplots(1, 1, figsize=(9, 5))\n",
        "sns.kdeplot(data[data['HCHK_HPLPDM_PMH_YN'] == 1]['TOT_CHOLE'])\n",
        "sns.kdeplot(data[data['HCHK_HPLPDM_PMH_YN'] == 0]['TOT_CHOLE'])\n",
        "plt.legend(['HPLPDM == 1, HPLPDM == 0'])"
      ],
      "execution_count": null,
      "outputs": []
    },
    {
      "cell_type": "code",
      "metadata": {
        "id": "JzAi7yQzQ5Iu"
      },
      "source": [
        "#HCHK_HPLPDM_PMH_YN\n",
        "g = sns.factorplot(x='HCHK_HPLPDM_PMH_YN', y='statin', hue='Stroke',data=data, size=6, kind='bar', palette = 'muted')\n"
      ],
      "execution_count": null,
      "outputs": []
    },
    {
      "cell_type": "code",
      "metadata": {
        "id": "X9nQgNw6Q5Dn"
      },
      "source": [
        "data.loc[((data['statin'] == 1) & (data['HCHK_HPLPDM_PMH_YN'].isnull())), 'HCHK_HPLPDM_PMH_YN'] = 1\n",
        "data.loc[((data['statin'] == 0) & (data['HCHK_HPLPDM_PMH_YN'].isnull())), 'HCHK_HPLPDM_PMH_YN'] = 0"
      ],
      "execution_count": null,
      "outputs": []
    },
    {
      "cell_type": "code",
      "metadata": {
        "id": "qi5kVxb25Yu6"
      },
      "source": [
        "#흡연\n",
        "f, ax = plt.subplots(1, 1, figsize=(9, 5))\n",
        "sns.kdeplot(data[data['SMK_STAT_TYPE_RSPS_CD'] == 1]['CUR_DSQTY_RSPS_CD'])\n",
        "sns.kdeplot(data[data['SMK_STAT_TYPE_RSPS_CD'] == 2]['CUR_DSQTY_RSPS_CD'])\n",
        "sns.kdeplot(data[data['SMK_STAT_TYPE_RSPS_CD'] == 3]['CUR_DSQTY_RSPS_CD'])\n",
        "plt.legend(['SMK_STAT_TYPE_RSPS_CD=1, SMK_STAT_TYPE_RSPS_CD=2, SMK_STAT_TYPE_RSPS_CD=3'])\n"
      ],
      "execution_count": null,
      "outputs": []
    },
    {
      "cell_type": "code",
      "metadata": {
        "id": "ZD_wHSaR5YtF"
      },
      "source": [
        "#흡연관련 데이터\n",
        "g = sns.factorplot(x='SMK_STAT_TYPE_RSPS_CD', y='CUR_DSQTY_RSPS_CD', hue='Stroke',data=data, size=6, kind='bar', palette = 'muted')"
      ],
      "execution_count": null,
      "outputs": []
    },
    {
      "cell_type": "code",
      "metadata": {
        "id": "mEySYRCs5Yj0"
      },
      "source": [
        "#안 피우는 사람 현재 흡연기간, 흡연량 0으로\n",
        "data.loc[((data['SMK_STAT_TYPE_RSPS_CD'] == 3) & (data['CUR_DSQTY_RSPS_CD'].isnull())), 'CUR_DSQTY_RSPS_CD'].isnull().sum()"
      ],
      "execution_count": null,
      "outputs": []
    },
    {
      "cell_type": "code",
      "metadata": {
        "id": "DAsyNwOy5Yok"
      },
      "source": [
        "#안 피우는 사람 현재 흡연기간, 흡연량 0으로\n",
        "data['CUR_DSQTY_RSPS_CD'].fillna(0, inplace=True)"
      ],
      "execution_count": null,
      "outputs": []
    },
    {
      "cell_type": "code",
      "metadata": {
        "id": "_YKG_EW_kzd-"
      },
      "source": [
        "data['CUR_SMK_TERM_RSPS_CD'].fillna(0, inplace=True)"
      ],
      "execution_count": null,
      "outputs": []
    },
    {
      "cell_type": "code",
      "metadata": {
        "id": "F4ZI4U-l5YfN"
      },
      "source": [
        "#과거 흡연기간"
      ],
      "execution_count": null,
      "outputs": []
    },
    {
      "cell_type": "code",
      "metadata": {
        "id": "SwKvTFlnikb8"
      },
      "source": [
        "g = sns.factorplot(x='SMK_STAT_TYPE_RSPS_CD', y='PAST_SMK_TERM_RSPS_CD', hue='Stroke',data=data, size=6, kind='bar', palette = 'muted')"
      ],
      "execution_count": null,
      "outputs": []
    },
    {
      "cell_type": "code",
      "metadata": {
        "id": "VuvvsyYhiwVB"
      },
      "source": [
        "data['PAST_SMK_TERM_RSPS_CD'].describe()"
      ],
      "execution_count": null,
      "outputs": []
    },
    {
      "cell_type": "code",
      "metadata": {
        "id": "0So3uggdo8ni"
      },
      "source": [
        "data.loc[((data['SMK_STAT_TYPE_RSPS_CD'] == 2) & (data['PAST_SMK_TERM_RSPS_CD'].isnull())), 'PAST_SMK_TERM_RSPS_CD'] = 28.0"
      ],
      "execution_count": null,
      "outputs": []
    },
    {
      "cell_type": "code",
      "metadata": {
        "id": "x18ei6qoo8qw"
      },
      "source": [
        "data.loc[((data['SMK_STAT_TYPE_RSPS_CD'] == 2) & (data['PAST_SMK_TERM_RSPS_CD'].isnull())), 'PAST_SMK_TERM_RSPS_CD'].isnull().sum()"
      ],
      "execution_count": null,
      "outputs": []
    },
    {
      "cell_type": "code",
      "metadata": {
        "id": "DJjxBz-kPR7v"
      },
      "source": [
        "data.loc[((data['SMK_STAT_TYPE_RSPS_CD'] == 3) & (data['PAST_SMK_TERM_RSPS_CD'].isnull())), 'PAST_SMK_TERM_RSPS_CD'].isnull().sum()"
      ],
      "execution_count": null,
      "outputs": []
    },
    {
      "cell_type": "code",
      "metadata": {
        "id": "nX9gzG3JPSCk"
      },
      "source": [
        "data.loc[((data['SMK_STAT_TYPE_RSPS_CD'] == 3) & (data['PAST_SMK_TERM_RSPS_CD'].isnull())), 'PAST_SMK_TERM_RSPS_CD']= 0.0"
      ],
      "execution_count": null,
      "outputs": []
    },
    {
      "cell_type": "code",
      "metadata": {
        "id": "PpM5UXREPSSV"
      },
      "source": [
        "data.loc[((data['SMK_STAT_TYPE_RSPS_CD'] == 1) & (data['PAST_SMK_TERM_RSPS_CD'].isnull())), 'PAST_SMK_TERM_RSPS_CD'] = 0"
      ],
      "execution_count": null,
      "outputs": []
    },
    {
      "cell_type": "code",
      "metadata": {
        "id": "Zc-J3TM0Q_HG"
      },
      "source": [
        "#과거 하루흡연량\n",
        "g = sns.factorplot(x='SMK_STAT_TYPE_RSPS_CD', y='PAST_DSQTY_RSPS_CD', hue='Stroke',data=data, size=6, kind='bar', palette = 'muted')"
      ],
      "execution_count": null,
      "outputs": []
    },
    {
      "cell_type": "code",
      "metadata": {
        "id": "WD3jhMXEQ_S9"
      },
      "source": [
        "sns.kdeplot(data[data['SMK_STAT_TYPE_RSPS_CD'] == 2]['PAST_DSQTY_RSPS_CD'])"
      ],
      "execution_count": null,
      "outputs": []
    },
    {
      "cell_type": "code",
      "metadata": {
        "id": "RxdWkE2kQ_Xu"
      },
      "source": [
        "data['PAST_DSQTY_RSPS_CD'].describe()"
      ],
      "execution_count": null,
      "outputs": []
    },
    {
      "cell_type": "code",
      "metadata": {
        "id": "MVncBBmsiwyr"
      },
      "source": [
        "data.loc[((data['SMK_STAT_TYPE_RSPS_CD'] == 2) & (data['PAST_DSQTY_RSPS_CD'].isnull())), 'PAST_DSQTY_RSPS_CD'] = 17.0"
      ],
      "execution_count": null,
      "outputs": []
    },
    {
      "cell_type": "code",
      "metadata": {
        "id": "fkS5jUAkiwqF"
      },
      "source": [
        "data['PAST_DSQTY_RSPS_CD'].fillna(0, inplace=True)"
      ],
      "execution_count": null,
      "outputs": []
    },
    {
      "cell_type": "code",
      "metadata": {
        "id": "37Bz8uTO5YqZ"
      },
      "source": [
        "#HCHK_PHSS_PMH_YN\n",
        "g = sns.factorplot(x='SMK_STAT_TYPE_RSPS_CD', y='HCHK_PHSS_PMH_YN',data=data, size=6, kind='bar', palette = 'muted')"
      ],
      "execution_count": null,
      "outputs": []
    },
    {
      "cell_type": "code",
      "metadata": {
        "id": "APIt_BOv5Yw2"
      },
      "source": [
        "data.loc[((data['SMK_STAT_TYPE_RSPS_CD'] == 2) & (data['HCHK_PHSS_PMH_YN'].isnull())), 'HCHK_PHSS_PMH_YN'] = 1\n",
        "data.loc[((data['SMK_STAT_TYPE_RSPS_CD'] == 1) & (data['HCHK_PHSS_PMH_YN'].isnull())), 'HCHK_PHSS_PMH_YN'] = 0\n",
        "data.loc[((data['SMK_STAT_TYPE_RSPS_CD'] == 3) & (data['HCHK_PHSS_PMH_YN'].isnull())), 'HCHK_PHSS_PMH_YN'] = 0"
      ],
      "execution_count": null,
      "outputs": []
    },
    {
      "cell_type": "code",
      "metadata": {
        "id": "waCEB18p5YRY"
      },
      "source": [
        "#KDSQ_C와 FMLY_APOP_PATIEN_YN, HCHK_APOP_PMH_YN\n",
        "g = sns.factorplot(x='FMLY_APOP_PATIEN_YN', y='KDSQ_C',data=data, size=6, palette = 'muted')"
      ],
      "execution_count": null,
      "outputs": []
    },
    {
      "cell_type": "code",
      "metadata": {
        "id": "1uCqHK2Y5YPi"
      },
      "source": [
        "g = sns.factorplot(x='HCHK_APOP_PMH_YN', y='KDSQ_C',data=data, size=6, palette = 'muted')"
      ],
      "execution_count": null,
      "outputs": []
    },
    {
      "cell_type": "code",
      "metadata": {
        "id": "CCRAgLco5YGw"
      },
      "source": [
        "data.loc[(((data['HCHK_APOP_PMH_YN'] == 1) | (data['FMLY_APOP_PATIEN_YN'] == 1)) & data['KDSQ_C'].isnull()), 'KDSQ_C'] = 2"
      ],
      "execution_count": null,
      "outputs": []
    },
    {
      "cell_type": "code",
      "metadata": {
        "id": "4zBNkdDn5YCL"
      },
      "source": [
        "data.loc[(((data['HCHK_APOP_PMH_YN'] == 0) & (data['FMLY_APOP_PATIEN_YN'] == 0)) & data['KDSQ_C'].isnull()), 'KDSQ_C'] = 1"
      ],
      "execution_count": null,
      "outputs": []
    },
    {
      "cell_type": "code",
      "metadata": {
        "id": "zBkqrW8MCnVz"
      },
      "source": [
        "#KDSQ_C와 KDSQ_C_1, 2, 3, 4, 5 비교"
      ],
      "execution_count": null,
      "outputs": []
    },
    {
      "cell_type": "code",
      "metadata": {
        "id": "8sHRAvKfCnTM"
      },
      "source": [
        "#KDSQ_C_1\n",
        "data.groupby('KDSQ_C')['KDSQ_C_1'].describe()"
      ],
      "execution_count": null,
      "outputs": []
    },
    {
      "cell_type": "code",
      "metadata": {
        "id": "o4QtRbdvCnRe"
      },
      "source": [
        "data.loc[((data['KDSQ_C'] == 1) & (data['KDSQ_C_1'].isnull())), 'KDSQ_C_1'] = 1\n",
        "data.loc[((data['KDSQ_C'] == 2) & (data['KDSQ_C_1'].isnull())), 'KDSQ_C_1'] = 2\n",
        "data['KDSQ_C_1'].isnull().sum()"
      ],
      "execution_count": null,
      "outputs": []
    },
    {
      "cell_type": "code",
      "metadata": {
        "id": "FQndxLWZCnKR"
      },
      "source": [
        "#KDSQ_C_2\n",
        "data.groupby('KDSQ_C')['KDSQ_C_2'].describe()"
      ],
      "execution_count": null,
      "outputs": []
    },
    {
      "cell_type": "code",
      "metadata": {
        "id": "YHEnE9X3CnIP"
      },
      "source": [
        "data.loc[((data['KDSQ_C'] == 1) & (data['KDSQ_C_2'].isnull())), 'KDSQ_C_2'] = 1\n",
        "data.loc[((data['KDSQ_C'] == 2) & (data['KDSQ_C_2'].isnull())), 'KDSQ_C_2'] = 2\n",
        "data['KDSQ_C_2'].isnull().sum()"
      ],
      "execution_count": null,
      "outputs": []
    },
    {
      "cell_type": "code",
      "metadata": {
        "id": "xu-908gQXAFk"
      },
      "source": [
        "#KDSQ_C_3"
      ],
      "execution_count": null,
      "outputs": []
    },
    {
      "cell_type": "code",
      "metadata": {
        "id": "XyCCO9FDchhy"
      },
      "source": [
        "data.groupby('KDSQ_C')['KDSQ_C_3'].describe()"
      ],
      "execution_count": null,
      "outputs": []
    },
    {
      "cell_type": "code",
      "metadata": {
        "id": "pM2GZ57FchmY"
      },
      "source": [
        "data.loc[((data['KDSQ_C'] == 1) & (data['KDSQ_C_3'].isnull())), 'KDSQ_C_3'] = 1\n",
        "data.loc[((data['KDSQ_C'] == 2) & (data['KDSQ_C_3'].isnull())), 'KDSQ_C_3'] = 2\n",
        "data['KDSQ_C_3'].isnull().sum()"
      ],
      "execution_count": null,
      "outputs": []
    },
    {
      "cell_type": "code",
      "metadata": {
        "id": "V7VxJMEechw0"
      },
      "source": [
        "#KDSQ_C_4\n",
        "data.groupby('KDSQ_C')['KDSQ_C_4'].describe()"
      ],
      "execution_count": null,
      "outputs": []
    },
    {
      "cell_type": "code",
      "metadata": {
        "id": "PInbvmcLch4W"
      },
      "source": [
        "data.loc[((data['KDSQ_C'] == 1) & (data['KDSQ_C_4'].isnull())), 'KDSQ_C_4'] = 1\n",
        "data.loc[((data['KDSQ_C'] == 2) & (data['KDSQ_C_4'].isnull())), 'KDSQ_C_4'] = 2\n",
        "data['KDSQ_C_4'].isnull().sum()"
      ],
      "execution_count": null,
      "outputs": []
    },
    {
      "cell_type": "code",
      "metadata": {
        "id": "eg2R-CXDciGK"
      },
      "source": [
        "#KDSQ_C_5\n",
        "data.groupby('KDSQ_C')['KDSQ_C_5'].describe()"
      ],
      "execution_count": null,
      "outputs": []
    },
    {
      "cell_type": "code",
      "metadata": {
        "id": "U9-viS2FciDS"
      },
      "source": [
        "data.loc[((data['KDSQ_C'] == 1) & (data['KDSQ_C_5'].isnull())), 'KDSQ_C_5'] = 1\n",
        "data.loc[((data['KDSQ_C'] == 2) & (data['KDSQ_C_5'].isnull())), 'KDSQ_C_5'] = 2\n",
        "data['KDSQ_C_5'].isnull().sum()"
      ],
      "execution_count": null,
      "outputs": []
    },
    {
      "cell_type": "code",
      "metadata": {
        "id": "u30dcViIkOpc"
      },
      "source": [
        "missing_values = missing_values_table(data)"
      ],
      "execution_count": null,
      "outputs": []
    },
    {
      "cell_type": "code",
      "metadata": {
        "id": "HBPlMvPNch78"
      },
      "source": [
        "#Modeling"
      ],
      "execution_count": null,
      "outputs": []
    },
    {
      "cell_type": "code",
      "metadata": {
        "id": "VSWVKKeadJ2A"
      },
      "source": [
        "from sklearn.model_selection import train_test_split\n",
        "from sklearn import metrics \n",
        "train, test = train_test_split(data, test_size=0.2)\n"
      ],
      "execution_count": null,
      "outputs": []
    },
    {
      "cell_type": "code",
      "metadata": {
        "id": "OZhVPhyS-n3R"
      },
      "source": [
        "X_train = train.drop('Stroke', axis=1).values\n",
        "target_label = train['Stroke'].values\n",
        "X_test = test.values"
      ],
      "execution_count": null,
      "outputs": []
    },
    {
      "cell_type": "code",
      "metadata": {
        "id": "G5VVqgXv-jLg"
      },
      "source": [
        "X_tr, X_vld, y_tr, y_vld = train_test_split(X_train, target_label, test_size=0.2, random_state=2018)"
      ],
      "execution_count": null,
      "outputs": []
    },
    {
      "cell_type": "code",
      "metadata": {
        "id": "McRN9vLh-cmO"
      },
      "source": [
        "rf = RandomForestClassifier()\n",
        "rf.fit(X_tr, y_tr)"
      ],
      "execution_count": null,
      "outputs": []
    },
    {
      "cell_type": "code",
      "metadata": {
        "id": "Hz7mEjf4Ymit"
      },
      "source": [
        "nb = GaussianNB()\n",
        "nb.fit(X_tr, y_tr)"
      ],
      "execution_count": null,
      "outputs": []
    },
    {
      "cell_type": "code",
      "metadata": {
        "id": "gdZ6Zql_Ympa"
      },
      "source": [
        "knn = KNeighborsClassifier()\n",
        "knn.fit(X_tr, y_tr)"
      ],
      "execution_count": null,
      "outputs": []
    },
    {
      "cell_type": "code",
      "metadata": {
        "id": "6nY8ki_zcEh3"
      },
      "source": [
        "dtc = DecisionTreeClassifier()\n",
        "dtc.fit(X_tr, y_tr)"
      ],
      "execution_count": null,
      "outputs": []
    },
    {
      "cell_type": "code",
      "metadata": {
        "id": "jI6bprL7YmvS"
      },
      "source": [
        "rf_probs = rf.predict_proba(X_vld)\n",
        "nb_probs = nb.predict_proba(X_vld)\n",
        "knn_probs = knn.predict_proba(X_vld)\n",
        "dtc_probs = dtc.predict_proba(X_vld)"
      ],
      "execution_count": null,
      "outputs": []
    },
    {
      "cell_type": "code",
      "metadata": {
        "id": "GxWiIGC0Ymy5"
      },
      "source": [
        "rf_probs = rf_probs[:, 1]\n",
        "nb_probs = nb_probs[:, 1]\n",
        "knn_probs = knn_probs[:, 1]\n",
        "dtc_probs = dtc_probs[:, 1]"
      ],
      "execution_count": null,
      "outputs": []
    },
    {
      "cell_type": "code",
      "metadata": {
        "id": "VYU-8fOLYm27"
      },
      "source": [
        "rf_auc = roc_auc_score(y_vld, rf_probs)\n",
        "nb_auc = roc_auc_score(y_vld, nb_probs)\n",
        "knn_auc = roc_auc_score(y_vld, knn_probs)\n",
        "dtc_auc = roc_auc_score(y_vld, dtc_probs)"
      ],
      "execution_count": null,
      "outputs": []
    },
    {
      "cell_type": "code",
      "metadata": {
        "id": "dXXEGOxQYm_a"
      },
      "source": [
        "rf_fpr, rf_tpr, _ = roc_curve(y_vld, rf_probs)\n",
        "nb_fpr, nb_tpr, _ = roc_curve(y_vld, nb_probs)\n",
        "knn_fpr, knn_tpr, _ = roc_curve(y_vld, knn_probs)\n",
        "dtc_fpr, dtc_tpr, _ = roc_curve(y_vld, dtc_probs)"
      ],
      "execution_count": null,
      "outputs": []
    },
    {
      "cell_type": "code",
      "metadata": {
        "id": "ynN07q0NYnF3"
      },
      "source": [
        "plt.plot(rf_fpr, rf_tpr, linestyle='--', label = 'Random Forest (AUROC = %.3f)' % rf_auc)\n",
        "plt.plot(nb_fpr, nb_tpr, marker='.', label='Naive Bayes (AUROC = %.3f)' % nb_auc)\n",
        "plt.plot(knn_fpr, knn_tpr, marker='.', label = 'KNN (AUROC = %.3f)' % knn_auc)\n",
        "plt.plot(dtc_fpr, dtc_tpr, marker='.', label = 'dtc (AUROC = %.3f)' % dtc_auc)\n",
        "\n",
        "plt.xlabel('False Positive Rate')\n",
        "plt.ylabel('True Positive Rate')\n",
        "plt.legend()\n",
        "plt.show()"
      ],
      "execution_count": null,
      "outputs": []
    },
    {
      "cell_type": "code",
      "metadata": {
        "id": "JkfEhpDCaLmH"
      },
      "source": [
        "print(\"Random Forest: AUROC = %.3f\" % (rf_auc))\n",
        "print(\"knn: AUROC = %.3f\" % (knn_auc))\n",
        "print(\"Navie Bayes: AUROC = %.3f\" % (nb_auc))\n",
        "print(\"DTC: AUROC = %.3f\" % (dtc_auc))"
      ],
      "execution_count": null,
      "outputs": []
    },
    {
      "cell_type": "code",
      "metadata": {
        "id": "pTBVgQNAIj1Q"
      },
      "source": [
        ""
      ],
      "execution_count": null,
      "outputs": []
    }
  ]
}